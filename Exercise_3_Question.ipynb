{
  "nbformat": 4,
  "nbformat_minor": 0,
  "metadata": {
    "colab": {
      "name": "Exercise 3 - Question.ipynb",
      "version": "0.3.2",
      "provenance": [],
      "collapsed_sections": [],
      "include_colab_link": true
    },
    "kernelspec": {
      "name": "python3",
      "display_name": "Python 3"
    },
    "accelerator": "GPU"
  },
  "cells": [
    {
      "cell_type": "markdown",
      "metadata": {
        "id": "view-in-github",
        "colab_type": "text"
      },
      "source": [
        "<a href=\"https://colab.research.google.com/github/CaesarQu/TFLearning/blob/master/Exercise_3_Question.ipynb\" target=\"_parent\"><img src=\"https://colab.research.google.com/assets/colab-badge.svg\" alt=\"Open In Colab\"/></a>"
      ]
    },
    {
      "metadata": {
        "id": "iQjHqsmTAVLU",
        "colab_type": "text"
      },
      "cell_type": "markdown",
      "source": [
        "## Exercise 3\n",
        "In the videos you looked at how you would improve Fashion MNIST using Convolutions. For your exercise see if you can improve MNIST to 99.8% accuracy or more using only a single convolutional layer and a single MaxPooling 2D. You should stop training once the accuracy goes above this amount. It should happen in less than 20 epochs, so it's ok to hard code the number of epochs for training, but your training must end once it hits the above metric. If it doesn't, then you'll need to redesign your layers.\n",
        "\n",
        "I've started the code for you -- you need to finish it!\n",
        "\n",
        "When 99.8% accuracy has been hit, you should print out the string \"Reached 99.8% accuracy so cancelling training!\"\n"
      ]
    },
    {
      "metadata": {
        "id": "sfQRyaJWAIdg",
        "colab_type": "code",
        "outputId": "6933278d-a8d7-4711-9d1f-6b8d7df3b93c",
        "colab": {
          "base_uri": "https://localhost:8080/",
          "height": 416
        }
      },
      "cell_type": "code",
      "source": [
        "import tensorflow as tf\n",
        "\n",
        "# YOUR CODE STARTS HERE\n",
        "class mycallback(tf.keras.callbacks.Callback):\n",
        "  def on_epoch_end(self, epoch, logs={}):\n",
        "    if(logs.get(\"acc\")>0.998):\n",
        "      print(\"\\n Reach 99.8% accurancy and cancell training!\")\n",
        "      self.model.stop_training = True\n",
        "# YOUR CODE ENDS HERE\n",
        "\n",
        "callbacks = mycallback()\n",
        "mnist = tf.keras.datasets.mnist\n",
        "(training_images, training_labels), (test_images, test_labels) = mnist.load_data()\n",
        "training_images = training_images.reshape(60000,28,28,1)\n",
        "training_images = training_images/255.0\n",
        "\n",
        "test_images = test_images.reshape(10000,28,28,1)\n",
        "test_images = test_images/255.0\n",
        "\n",
        "model = tf.keras.models.Sequential([\n",
        "    # YOUR CODE STARTS HERE\n",
        "    tf.keras.layers.Conv2D(32,(3,3),activation=\"relu\",input_shape=(28,28,1)),\n",
        "    tf.keras.layers.MaxPooling2D(2,2),\n",
        "    tf.keras.layers.Flatten(),\n",
        "    tf.keras.layers.Dense(128, activation=\"relu\"),\n",
        "    tf.keras.layers.Dense(10, activation=\"softmax\")\n",
        "    # YOUR CODE ENDS HERE\n",
        "])\n",
        "\n",
        "model.compile(optimizer=\"adam\", loss=\"sparse_categorical_crossentropy\", metrics=['accuracy'])\n",
        "model.fit(training_images,training_labels, epochs=20, callbacks=[callbacks])\n",
        "# YOUR CODE STARTS HERE\n",
        "\n",
        "# YOUR CODE ENDS HERE\n",
        "\n"
      ],
      "execution_count": 0,
      "outputs": [
        {
          "output_type": "stream",
          "text": [
            "Epoch 1/20\n",
            "60000/60000 [==============================] - 7s 120us/sample - loss: 0.1455 - acc: 0.9572\n",
            "Epoch 2/20\n",
            "60000/60000 [==============================] - 7s 112us/sample - loss: 0.0505 - acc: 0.9842\n",
            "Epoch 3/20\n",
            "60000/60000 [==============================] - 7s 114us/sample - loss: 0.0330 - acc: 0.9901\n",
            "Epoch 4/20\n",
            "60000/60000 [==============================] - 7s 114us/sample - loss: 0.0225 - acc: 0.9928\n",
            "Epoch 5/20\n",
            "60000/60000 [==============================] - 7s 120us/sample - loss: 0.0142 - acc: 0.9956\n",
            "Epoch 6/20\n",
            "60000/60000 [==============================] - 7s 121us/sample - loss: 0.0103 - acc: 0.9969\n",
            "Epoch 7/20\n",
            "60000/60000 [==============================] - 7s 112us/sample - loss: 0.0082 - acc: 0.9973\n",
            "Epoch 8/20\n",
            "60000/60000 [==============================] - 7s 112us/sample - loss: 0.0063 - acc: 0.9978\n",
            "Epoch 9/20\n",
            "60000/60000 [==============================] - 7s 113us/sample - loss: 0.0067 - acc: 0.9978\n",
            "Epoch 10/20\n",
            "59712/60000 [============================>.] - ETA: 0s - loss: 0.0048 - acc: 0.9984\n",
            " Reach 99.8% accurancy and cancell training!\n",
            "60000/60000 [==============================] - 7s 114us/sample - loss: 0.0047 - acc: 0.9984\n"
          ],
          "name": "stdout"
        },
        {
          "output_type": "execute_result",
          "data": {
            "text/plain": [
              "<tensorflow.python.keras.callbacks.History at 0x7fcdb0b04eb8>"
            ]
          },
          "metadata": {
            "tags": []
          },
          "execution_count": 2
        }
      ]
    }
  ]
}